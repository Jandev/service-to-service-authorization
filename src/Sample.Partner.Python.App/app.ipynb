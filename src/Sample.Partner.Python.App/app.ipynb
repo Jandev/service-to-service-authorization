{
 "cells": [
  {
   "cell_type": "markdown",
   "metadata": {},
   "source": [
    "# Sample app\n",
    "\n",
    "This notebook is meant as a sample to show how a bearer token (JWT) can be created in Python using a Service Principal its Client Id and Client Secret.  \n",
    "The token can then be used to interact with the backend service, `Sample.Manufacturing.Dotnet.Api`.\n",
    "\n",
    "## Prerequisites\n",
    "\n",
    "As mentioned in the [Readme](/README.md), role-based security is used in the backend service. Therefore, the Service Principal needs to have the appropriate roles assigned to its identity. Assigning these roles is described in the [Microsoft Learn pages](https://learn.microsoft.com/en-us/graph/api/serviceprincipal-post-approleassignments?view=graph-rest-1.0&tabs=http) on this subject. A sample script can also be found over here in the [deployment scripts of the Secure-Api-repository](https://github.com/Jandev/secure-apis/blob/aafa11d5b038e8833dba061ea3054dce31258731/deployment/AAD/create-apps.ps1#L160)."
   ]
  },
  {
   "cell_type": "markdown",
   "metadata": {},
   "source": [
    "## Import the dependencies"
   ]
  },
  {
   "cell_type": "code",
   "execution_count": null,
   "metadata": {},
   "outputs": [],
   "source": [
    "pip install azure-identity"
   ]
  },
  {
   "cell_type": "code",
   "execution_count": null,
   "metadata": {},
   "outputs": [],
   "source": [
    "from azure.identity import ClientSecretCredential\n",
    "import requests\n",
    "import urllib3"
   ]
  },
  {
   "cell_type": "markdown",
   "metadata": {},
   "source": [
    "### Add the variables used in this sample"
   ]
  },
  {
   "cell_type": "code",
   "execution_count": null,
   "metadata": {},
   "outputs": [],
   "source": [
    "# Used for retrieving the token.\n",
    "tenant_id=\"<The tenant id where the applications are deployed to>\"\n",
    "client_id=\"<The Client Id of the Partner App Registration>\"\n",
    "client_secret=\"<The Client Secret created for the Partner App Registration>\"\n",
    "serviceAppUri = \"<The App ID URI of the backend solution>\""
   ]
  },
  {
   "cell_type": "code",
   "execution_count": null,
   "metadata": {},
   "outputs": [],
   "source": [
    "# Used to invoke the backend API.\n",
    "backendApiUrl = \"<The endpoint of backend that needs to be invoked.>\""
   ]
  },
  {
   "cell_type": "markdown",
   "metadata": {},
   "source": [
    "## Do the work\n",
    "\n",
    "Create a token for the Service Principal, and make an HTTP request to the backend service."
   ]
  },
  {
   "cell_type": "code",
   "execution_count": null,
   "metadata": {},
   "outputs": [],
   "source": [
    "serviceAppUri = serviceAppUri\n",
    "credential = ClientSecretCredential(\n",
    "    tenant_id=tenant_id,\n",
    "    client_id=client_id,\n",
    "    client_secret=client_secret,\n",
    ")\n",
    "\n",
    "bearerToken = credential.get_token(f\"{serviceAppUri}.default\")\n"
   ]
  },
  {
   "cell_type": "markdown",
   "metadata": {},
   "source": [
    "### Get the response from the backend API"
   ]
  },
  {
   "cell_type": "code",
   "execution_count": null,
   "metadata": {},
   "outputs": [],
   "source": [
    "headers = {\"Authorization\": f\"Bearer {bearerToken.token}\"}\n",
    "\n",
    "urllib3.disable_warnings(urllib3.exceptions.InsecureRequestWarning)\n",
    "\n",
    "try:\n",
    "    response = requests.get(backendApiUrl, headers=headers, verify=False)\n",
    "    response.raise_for_status()\n",
    "    print(response.json())\n",
    "except requests.exceptions.HTTPError as err:\n",
    "    print(f\"HTTP Error: {err}\")\n",
    "except requests.exceptions.RequestException as err:\n",
    "    print(f\"Request Exception: {err}\")\n"
   ]
  }
 ],
 "metadata": {
  "kernelspec": {
   "display_name": "Python 3",
   "language": "python",
   "name": "python3"
  },
  "language_info": {
   "codemirror_mode": {
    "name": "ipython",
    "version": 3
   },
   "file_extension": ".py",
   "mimetype": "text/x-python",
   "name": "python",
   "nbconvert_exporter": "python",
   "pygments_lexer": "ipython3",
   "version": "3.11.5"
  }
 },
 "nbformat": 4,
 "nbformat_minor": 2
}
